{
 "cells": [
  {
   "cell_type": "markdown",
   "metadata": {},
   "source": [
    "В A/B тесте было два варианта работы сервиса - standard и svm_ensemble_v_1_22, где работала модель классификации пользователей.\n",
    "\n",
    "Ответьте на 2 вопроса:\n",
    "\n",
    "- Стоит ли нам оставить старый вариант работы или заменить на вариант svm_ensemble_v_1_22 (используем всю выборку 200к+ записей)\n",
    "- Так же посчитайте вывод для типа пользователей (user_type) стоит ли для новых/старых пользователей (new/registered user) оставить старый / новый вариант работы (разделяем всю выборку 200к+ записей на группы)\n",
    "\n",
    "Как будет формироваться оценка по тесту:\n",
    "- Код - лаконичный, не захламленный, понятный\n",
    "- Визуализации, есть или нет, но не стоит захламлять отчет бесполезными картинками, чтобы показать что вы просто умеете, включите голову и подумайте, где лучше показать в исследовании график.\n",
    "- Правильность вывода (особенно во второй части задания)."
   ]
  },
  {
   "cell_type": "code",
   "execution_count": 1,
   "metadata": {
    "pycharm": {
     "name": "#%%\n"
    }
   },
   "outputs": [],
   "source": [
    "# Импортируем библиотеки\n",
    "import numpy as np\n",
    "import pandas as pd\n",
    "import scipy.stats as stats\n",
    "import statsmodels.stats.api as sms\n",
    "import matplotlib as mpl\n",
    "import matplotlib.pyplot as plt\n",
    "import seaborn as sns\n",
    "\n",
    "%matplotlib inline\n",
    "plt.style.use('seaborn-whitegrid')\n",
    "font = {'weight' : 'bold',\n",
    "        'size'   : 14}\n",
    "mpl.rc('font', **font)"
   ]
  },
  {
   "cell_type": "markdown",
   "metadata": {},
   "source": [
    "Загрузим предоставленный датасет. Посмотрим, что внутри за данные."
   ]
  },
  {
   "cell_type": "code",
   "execution_count": 2,
   "metadata": {
    "scrolled": false
   },
   "outputs": [
    {
     "data": {
      "text/html": [
       "<div>\n",
       "<style scoped>\n",
       "    .dataframe tbody tr th:only-of-type {\n",
       "        vertical-align: middle;\n",
       "    }\n",
       "\n",
       "    .dataframe tbody tr th {\n",
       "        vertical-align: top;\n",
       "    }\n",
       "\n",
       "    .dataframe thead th {\n",
       "        text-align: right;\n",
       "    }\n",
       "</style>\n",
       "<table border=\"1\" class=\"dataframe\">\n",
       "  <thead>\n",
       "    <tr style=\"text-align: right;\">\n",
       "      <th></th>\n",
       "      <th>user_id</th>\n",
       "      <th>timestamp</th>\n",
       "      <th>group</th>\n",
       "      <th>variants</th>\n",
       "      <th>converted</th>\n",
       "      <th>location</th>\n",
       "      <th>age_group</th>\n",
       "      <th>user_type</th>\n",
       "    </tr>\n",
       "  </thead>\n",
       "  <tbody>\n",
       "    <tr>\n",
       "      <th>0</th>\n",
       "      <td>9109b0dc-d393-497f-8d63-ba9a25dd16b4</td>\n",
       "      <td>2022-05-21 22:11:48.556739</td>\n",
       "      <td>control</td>\n",
       "      <td>standard</td>\n",
       "      <td>0</td>\n",
       "      <td>United Kingdom</td>\n",
       "      <td>18-25</td>\n",
       "      <td>registered_user</td>\n",
       "    </tr>\n",
       "    <tr>\n",
       "      <th>1</th>\n",
       "      <td>2430c3d2-f75b-4b31-8271-51b6a76c2652</td>\n",
       "      <td>2022-05-12 08:01:45.159739</td>\n",
       "      <td>control</td>\n",
       "      <td>standard</td>\n",
       "      <td>0</td>\n",
       "      <td>United Kingdom</td>\n",
       "      <td>42-49</td>\n",
       "      <td>registered_user</td>\n",
       "    </tr>\n",
       "    <tr>\n",
       "      <th>2</th>\n",
       "      <td>44788c4e-8dd2-4fad-b986-75e76f4adb64</td>\n",
       "      <td>2022-05-11 16:55:06.154213</td>\n",
       "      <td>treatment</td>\n",
       "      <td>svm_ensemble_v_1_22</td>\n",
       "      <td>0</td>\n",
       "      <td>United Kingdom</td>\n",
       "      <td>26-33</td>\n",
       "      <td>new_user</td>\n",
       "    </tr>\n",
       "    <tr>\n",
       "      <th>3</th>\n",
       "      <td>4699a417-506d-41b8-a354-6af6ad576963</td>\n",
       "      <td>2022-05-08 18:28:03.143765</td>\n",
       "      <td>treatment</td>\n",
       "      <td>svm_ensemble_v_1_22</td>\n",
       "      <td>0</td>\n",
       "      <td>United Kingdom</td>\n",
       "      <td>42-49</td>\n",
       "      <td>registered_user</td>\n",
       "    </tr>\n",
       "    <tr>\n",
       "      <th>4</th>\n",
       "      <td>304b0d28-bcdf-401a-9dff-66230d3ba0bc</td>\n",
       "      <td>2022-05-21 01:52:26.210827</td>\n",
       "      <td>control</td>\n",
       "      <td>standard</td>\n",
       "      <td>1</td>\n",
       "      <td>United Kingdom</td>\n",
       "      <td>42-49</td>\n",
       "      <td>registered_user</td>\n",
       "    </tr>\n",
       "    <tr>\n",
       "      <th>5</th>\n",
       "      <td>426f77eb-8739-43b6-999c-aecd14d9f346</td>\n",
       "      <td>2022-05-10 15:20:49.083499</td>\n",
       "      <td>control</td>\n",
       "      <td>standard</td>\n",
       "      <td>0</td>\n",
       "      <td>United Kingdom</td>\n",
       "      <td>42-49</td>\n",
       "      <td>registered_user</td>\n",
       "    </tr>\n",
       "    <tr>\n",
       "      <th>6</th>\n",
       "      <td>aa9d93c5-a18f-444a-a522-7e7145835362</td>\n",
       "      <td>2022-05-19 03:26:46.940749</td>\n",
       "      <td>treatment</td>\n",
       "      <td>svm_ensemble_v_1_22</td>\n",
       "      <td>1</td>\n",
       "      <td>United Kingdom</td>\n",
       "      <td>26-33</td>\n",
       "      <td>registered_user</td>\n",
       "    </tr>\n",
       "    <tr>\n",
       "      <th>7</th>\n",
       "      <td>de214e30-9b8d-44cf-87b1-16917f3e1c89</td>\n",
       "      <td>2022-05-17 01:48:29.539573</td>\n",
       "      <td>control</td>\n",
       "      <td>standard</td>\n",
       "      <td>0</td>\n",
       "      <td>United Kingdom</td>\n",
       "      <td>18-25</td>\n",
       "      <td>registered_user</td>\n",
       "    </tr>\n",
       "    <tr>\n",
       "      <th>8</th>\n",
       "      <td>070f398e-e6bf-43e7-88bb-37eff2cb9212</td>\n",
       "      <td>2022-05-04 17:58:08.979471</td>\n",
       "      <td>treatment</td>\n",
       "      <td>svm_ensemble_v_1_22</td>\n",
       "      <td>1</td>\n",
       "      <td>United Kingdom</td>\n",
       "      <td>18-25</td>\n",
       "      <td>new_user</td>\n",
       "    </tr>\n",
       "    <tr>\n",
       "      <th>9</th>\n",
       "      <td>9cff0b7e-d42b-4508-9fbe-a4e74f7f29c5</td>\n",
       "      <td>2022-05-15 18:11:06.610965</td>\n",
       "      <td>treatment</td>\n",
       "      <td>svm_ensemble_v_1_22</td>\n",
       "      <td>1</td>\n",
       "      <td>United Kingdom</td>\n",
       "      <td>26-33</td>\n",
       "      <td>new_user</td>\n",
       "    </tr>\n",
       "  </tbody>\n",
       "</table>\n",
       "</div>"
      ],
      "text/plain": [
       "                                user_id                   timestamp  \\\n",
       "0  9109b0dc-d393-497f-8d63-ba9a25dd16b4  2022-05-21 22:11:48.556739   \n",
       "1  2430c3d2-f75b-4b31-8271-51b6a76c2652  2022-05-12 08:01:45.159739   \n",
       "2  44788c4e-8dd2-4fad-b986-75e76f4adb64  2022-05-11 16:55:06.154213   \n",
       "3  4699a417-506d-41b8-a354-6af6ad576963  2022-05-08 18:28:03.143765   \n",
       "4  304b0d28-bcdf-401a-9dff-66230d3ba0bc  2022-05-21 01:52:26.210827   \n",
       "5  426f77eb-8739-43b6-999c-aecd14d9f346  2022-05-10 15:20:49.083499   \n",
       "6  aa9d93c5-a18f-444a-a522-7e7145835362  2022-05-19 03:26:46.940749   \n",
       "7  de214e30-9b8d-44cf-87b1-16917f3e1c89  2022-05-17 01:48:29.539573   \n",
       "8  070f398e-e6bf-43e7-88bb-37eff2cb9212  2022-05-04 17:58:08.979471   \n",
       "9  9cff0b7e-d42b-4508-9fbe-a4e74f7f29c5  2022-05-15 18:11:06.610965   \n",
       "\n",
       "       group             variants  converted        location age_group  \\\n",
       "0    control             standard          0  United Kingdom     18-25   \n",
       "1    control             standard          0  United Kingdom     42-49   \n",
       "2  treatment  svm_ensemble_v_1_22          0  United Kingdom     26-33   \n",
       "3  treatment  svm_ensemble_v_1_22          0  United Kingdom     42-49   \n",
       "4    control             standard          1  United Kingdom     42-49   \n",
       "5    control             standard          0  United Kingdom     42-49   \n",
       "6  treatment  svm_ensemble_v_1_22          1  United Kingdom     26-33   \n",
       "7    control             standard          0  United Kingdom     18-25   \n",
       "8  treatment  svm_ensemble_v_1_22          1  United Kingdom     18-25   \n",
       "9  treatment  svm_ensemble_v_1_22          1  United Kingdom     26-33   \n",
       "\n",
       "         user_type  \n",
       "0  registered_user  \n",
       "1  registered_user  \n",
       "2         new_user  \n",
       "3  registered_user  \n",
       "4  registered_user  \n",
       "5  registered_user  \n",
       "6  registered_user  \n",
       "7  registered_user  \n",
       "8         new_user  \n",
       "9         new_user  "
      ]
     },
     "execution_count": 2,
     "metadata": {},
     "output_type": "execute_result"
    }
   ],
   "source": [
    "df = pd.read_csv(r'ab_test_ensembles.csv')\n",
    "df.head(10)"
   ]
  },
  {
   "cell_type": "markdown",
   "metadata": {},
   "source": [
    "Сначала проверим, что датасет \"чистый\": нет нуевых и пропущенных значений. Как видим ниже общее число записей по датасету совпадает с числом ненулевых записей по каждому из столбцов, значит все ОК."
   ]
  },
  {
   "cell_type": "code",
   "execution_count": 3,
   "metadata": {},
   "outputs": [
    {
     "name": "stdout",
     "output_type": "stream",
     "text": [
      "<class 'pandas.core.frame.DataFrame'>\n",
      "RangeIndex: 294478 entries, 0 to 294477\n",
      "Data columns (total 8 columns):\n",
      " #   Column     Non-Null Count   Dtype \n",
      "---  ------     --------------   ----- \n",
      " 0   user_id    294478 non-null  object\n",
      " 1   timestamp  294478 non-null  object\n",
      " 2   group      294478 non-null  object\n",
      " 3   variants   294478 non-null  object\n",
      " 4   converted  294478 non-null  int64 \n",
      " 5   location   294478 non-null  object\n",
      " 6   age_group  294478 non-null  object\n",
      " 7   user_type  294478 non-null  object\n",
      "dtypes: int64(1), object(7)\n",
      "memory usage: 18.0+ MB\n"
     ]
    }
   ],
   "source": [
    "df.info()"
   ]
  },
  {
   "cell_type": "markdown",
   "metadata": {},
   "source": [
    "Поскольку в задании указано использовать для теста весь датасет, стоит убедиться, что контрольная и тестовая группы представлены в одинаковом количестве и обе видят новую и старую страницы сайта. Как видим ниже - это приблизительно так и есть."
   ]
  },
  {
   "cell_type": "code",
   "execution_count": 4,
   "metadata": {
    "scrolled": true
   },
   "outputs": [
    {
     "data": {
      "text/plain": [
       "treatment    147276\n",
       "control      147202\n",
       "Name: group, dtype: int64"
      ]
     },
     "execution_count": 4,
     "metadata": {},
     "output_type": "execute_result"
    }
   ],
   "source": [
    "df['group'].value_counts(ascending=False)"
   ]
  },
  {
   "cell_type": "code",
   "execution_count": 5,
   "metadata": {
    "scrolled": true
   },
   "outputs": [
    {
     "data": {
      "text/html": [
       "<div>\n",
       "<style scoped>\n",
       "    .dataframe tbody tr th:only-of-type {\n",
       "        vertical-align: middle;\n",
       "    }\n",
       "\n",
       "    .dataframe tbody tr th {\n",
       "        vertical-align: top;\n",
       "    }\n",
       "\n",
       "    .dataframe thead th {\n",
       "        text-align: right;\n",
       "    }\n",
       "</style>\n",
       "<table border=\"1\" class=\"dataframe\">\n",
       "  <thead>\n",
       "    <tr style=\"text-align: right;\">\n",
       "      <th>variants</th>\n",
       "      <th>standard</th>\n",
       "      <th>svm_ensemble_v_1_22</th>\n",
       "    </tr>\n",
       "    <tr>\n",
       "      <th>group</th>\n",
       "      <th></th>\n",
       "      <th></th>\n",
       "    </tr>\n",
       "  </thead>\n",
       "  <tbody>\n",
       "    <tr>\n",
       "      <th>control</th>\n",
       "      <td>145274</td>\n",
       "      <td>1928</td>\n",
       "    </tr>\n",
       "    <tr>\n",
       "      <th>treatment</th>\n",
       "      <td>1965</td>\n",
       "      <td>145311</td>\n",
       "    </tr>\n",
       "  </tbody>\n",
       "</table>\n",
       "</div>"
      ],
      "text/plain": [
       "variants   standard  svm_ensemble_v_1_22\n",
       "group                                   \n",
       "control      145274                 1928\n",
       "treatment      1965               145311"
      ]
     },
     "execution_count": 5,
     "metadata": {},
     "output_type": "execute_result"
    }
   ],
   "source": [
    "pd.crosstab(df['group'], df['variants'])"
   ]
  },
  {
   "cell_type": "markdown",
   "metadata": {},
   "source": [
    "Как в примере, проверим записи на дубли. Убедимся, что нам повезло и дублей в датасете нет. 🙂"
   ]
  },
  {
   "cell_type": "code",
   "execution_count": 6,
   "metadata": {
    "scrolled": true
   },
   "outputs": [
    {
     "name": "stdout",
     "output_type": "stream",
     "text": [
      "У нас имеются 0 пользователей, которые не уникальны в нашей выборке.\n"
     ]
    }
   ],
   "source": [
    "sessions = df['user_id'].value_counts(ascending=False)\n",
    "duplicate_users = sessions[sessions > 1].count()\n",
    "print(f\"У нас имеются {duplicate_users} пользователей, которые не уникальны в нашей выборке.\")"
   ]
  },
  {
   "cell_type": "code",
   "execution_count": 7,
   "metadata": {},
   "outputs": [
    {
     "data": {
      "text/html": [
       "<div>\n",
       "<style scoped>\n",
       "    .dataframe tbody tr th:only-of-type {\n",
       "        vertical-align: middle;\n",
       "    }\n",
       "\n",
       "    .dataframe tbody tr th {\n",
       "        vertical-align: top;\n",
       "    }\n",
       "\n",
       "    .dataframe thead th {\n",
       "        text-align: right;\n",
       "    }\n",
       "</style>\n",
       "<table border=\"1\" class=\"dataframe\">\n",
       "  <thead>\n",
       "    <tr style=\"text-align: right;\">\n",
       "      <th></th>\n",
       "      <th>CR mean</th>\n",
       "      <th>CR std</th>\n",
       "      <th>CR se</th>\n",
       "    </tr>\n",
       "    <tr>\n",
       "      <th>group</th>\n",
       "      <th></th>\n",
       "      <th></th>\n",
       "      <th></th>\n",
       "    </tr>\n",
       "  </thead>\n",
       "  <tbody>\n",
       "    <tr>\n",
       "      <th>control</th>\n",
       "      <td>0.120399</td>\n",
       "      <td>0.325428</td>\n",
       "      <td>0.000848</td>\n",
       "    </tr>\n",
       "    <tr>\n",
       "      <th>treatment</th>\n",
       "      <td>0.118920</td>\n",
       "      <td>0.323694</td>\n",
       "      <td>0.000843</td>\n",
       "    </tr>\n",
       "  </tbody>\n",
       "</table>\n",
       "</div>"
      ],
      "text/plain": [
       "            CR mean    CR std     CR se\n",
       "group                                  \n",
       "control    0.120399  0.325428  0.000848\n",
       "treatment  0.118920  0.323694  0.000843"
      ]
     },
     "execution_count": 7,
     "metadata": {},
     "output_type": "execute_result"
    }
   ],
   "source": [
    "conversion_rates = df.groupby('group')['converted']\n",
    "\n",
    "# Стандартное отклонение для сформированной выборки\n",
    "std_proportion = lambda x: np.std(x, ddof=0)\n",
    "# Стандартная ошибка для сформированной выборки, формулу стандартной ошибки вы знаете из лекций. Забыли - погуглите.\n",
    "se_proportion = lambda x: stats.sem(x, ddof=0)\n",
    "\n",
    "conversion_rates = conversion_rates.agg([np.mean, std_proportion, se_proportion]).rename(columns={'mean':'CR mean', '<lambda_0>':'CR std', '<lambda_1>':'CR se'})\n",
    "conversion_rates"
   ]
  },
  {
   "cell_type": "code",
   "execution_count": 8,
   "metadata": {},
   "outputs": [
    {
     "data": {
      "image/png": "[encoded data removed]",
      "text/plain": [
       "<Figure size 576x432 with 1 Axes>"
      ]
     },
     "metadata": {},
     "output_type": "display_data"
    }
   ],
   "source": [
    "plt.figure(figsize=(8,6));\n",
    "sns.barplot(x=df['group'], y=df['converted'], ci=False, palette=\"rocket\");\n",
    "plt.ylim(0, 0.17);\n",
    "plt.title('Conversion rate by experimental samples', pad=20)\n",
    "plt.xlabel('Group', labelpad=15);\n",
    "plt.ylabel('Converted (proportion)', labelpad=15);"
   ]
  },
  {
   "cell_type": "code",
   "execution_count": 9,
   "metadata": {},
   "outputs": [
    {
     "name": "stdout",
     "output_type": "stream",
     "text": [
      "Z-statistic: 1.24\n",
      "p-value: 0.216\n",
      "CI 95% for control group: [0.119, 0.122]\n",
      "CI 95% for treatment group: [0.117, 0.121]\n"
     ]
    }
   ],
   "source": [
    "from statsmodels.stats.proportion import proportions_ztest, proportion_confint\n",
    "\n",
    "control_results = df[df['group'] == 'control']['converted']\n",
    "treatment_results = df[df['group'] == 'treatment']['converted']\n",
    "\n",
    "n_con = control_results.count()\n",
    "n_treat = treatment_results.count()\n",
    "successes = [control_results.sum(), treatment_results.sum()]\n",
    "nobs = [n_con, n_treat]\n",
    "\n",
    "z_stat, pval = proportions_ztest(successes, nobs=nobs)\n",
    "(lower_con, lower_treat), (upper_con, upper_treat) = proportion_confint(successes, nobs=nobs, alpha=0.05)\n",
    "\n",
    "print(f'Z-statistic: {z_stat:.2f}')\n",
    "print(f'p-value: {pval:.3f}')\n",
    "print(f'CI 95% for control group: [{lower_con:.3f}, {upper_con:.3f}]')\n",
    "print(f'CI 95% for treatment group: [{lower_treat:.3f}, {upper_treat:.3f}]')"
   ]
  },
  {
   "cell_type": "code",
   "execution_count": 12,
   "metadata": {},
   "outputs": [
    {
     "data": {
      "text/html": [
       "<div>\n",
       "<style scoped>\n",
       "    .dataframe tbody tr th:only-of-type {\n",
       "        vertical-align: middle;\n",
       "    }\n",
       "\n",
       "    .dataframe tbody tr th {\n",
       "        vertical-align: top;\n",
       "    }\n",
       "\n",
       "    .dataframe thead th {\n",
       "        text-align: right;\n",
       "    }\n",
       "</style>\n",
       "<table border=\"1\" class=\"dataframe\">\n",
       "  <thead>\n",
       "    <tr style=\"text-align: right;\">\n",
       "      <th></th>\n",
       "      <th></th>\n",
       "      <th>CR mean</th>\n",
       "      <th>CR std</th>\n",
       "      <th>CR se</th>\n",
       "    </tr>\n",
       "    <tr>\n",
       "      <th>age_group</th>\n",
       "      <th>group</th>\n",
       "      <th></th>\n",
       "      <th></th>\n",
       "      <th></th>\n",
       "    </tr>\n",
       "  </thead>\n",
       "  <tbody>\n",
       "    <tr>\n",
       "      <th rowspan=\"2\" valign=\"top\">18-25</th>\n",
       "      <th>control</th>\n",
       "      <td>0.118006</td>\n",
       "      <td>0.322615</td>\n",
       "      <td>0.002065</td>\n",
       "    </tr>\n",
       "    <tr>\n",
       "      <th>treatment</th>\n",
       "      <td>0.118509</td>\n",
       "      <td>0.323210</td>\n",
       "      <td>0.002071</td>\n",
       "    </tr>\n",
       "    <tr>\n",
       "      <th rowspan=\"2\" valign=\"top\">26-33</th>\n",
       "      <th>control</th>\n",
       "      <td>0.121296</td>\n",
       "      <td>0.326471</td>\n",
       "      <td>0.002079</td>\n",
       "    </tr>\n",
       "    <tr>\n",
       "      <th>treatment</th>\n",
       "      <td>0.120636</td>\n",
       "      <td>0.325703</td>\n",
       "      <td>0.002076</td>\n",
       "    </tr>\n",
       "    <tr>\n",
       "      <th rowspan=\"2\" valign=\"top\">34-41</th>\n",
       "      <th>control</th>\n",
       "      <td>0.119790</td>\n",
       "      <td>0.324715</td>\n",
       "      <td>0.002082</td>\n",
       "    </tr>\n",
       "    <tr>\n",
       "      <th>treatment</th>\n",
       "      <td>0.114868</td>\n",
       "      <td>0.318863</td>\n",
       "      <td>0.002034</td>\n",
       "    </tr>\n",
       "    <tr>\n",
       "      <th rowspan=\"2\" valign=\"top\">42-49</th>\n",
       "      <th>control</th>\n",
       "      <td>0.121329</td>\n",
       "      <td>0.326509</td>\n",
       "      <td>0.002090</td>\n",
       "    </tr>\n",
       "    <tr>\n",
       "      <th>treatment</th>\n",
       "      <td>0.117866</td>\n",
       "      <td>0.322450</td>\n",
       "      <td>0.002051</td>\n",
       "    </tr>\n",
       "    <tr>\n",
       "      <th rowspan=\"2\" valign=\"top\">50-57</th>\n",
       "      <th>control</th>\n",
       "      <td>0.121575</td>\n",
       "      <td>0.326794</td>\n",
       "      <td>0.002085</td>\n",
       "    </tr>\n",
       "    <tr>\n",
       "      <th>treatment</th>\n",
       "      <td>0.119948</td>\n",
       "      <td>0.324901</td>\n",
       "      <td>0.002069</td>\n",
       "    </tr>\n",
       "    <tr>\n",
       "      <th rowspan=\"2\" valign=\"top\">58+</th>\n",
       "      <th>control</th>\n",
       "      <td>0.120382</td>\n",
       "      <td>0.325408</td>\n",
       "      <td>0.002065</td>\n",
       "    </tr>\n",
       "    <tr>\n",
       "      <th>treatment</th>\n",
       "      <td>0.121711</td>\n",
       "      <td>0.326952</td>\n",
       "      <td>0.002095</td>\n",
       "    </tr>\n",
       "  </tbody>\n",
       "</table>\n",
       "</div>"
      ],
      "text/plain": [
       "                      CR mean    CR std     CR se\n",
       "age_group group                                  \n",
       "18-25     control    0.118006  0.322615  0.002065\n",
       "          treatment  0.118509  0.323210  0.002071\n",
       "26-33     control    0.121296  0.326471  0.002079\n",
       "          treatment  0.120636  0.325703  0.002076\n",
       "34-41     control    0.119790  0.324715  0.002082\n",
       "          treatment  0.114868  0.318863  0.002034\n",
       "42-49     control    0.121329  0.326509  0.002090\n",
       "          treatment  0.117866  0.322450  0.002051\n",
       "50-57     control    0.121575  0.326794  0.002085\n",
       "          treatment  0.119948  0.324901  0.002069\n",
       "58+       control    0.120382  0.325408  0.002065\n",
       "          treatment  0.121711  0.326952  0.002095"
      ]
     },
     "execution_count": 12,
     "metadata": {},
     "output_type": "execute_result"
    }
   ],
   "source": [
    "conversion_rates = df.groupby(['age_group', 'group'])['converted']\n",
    "std_proportion = lambda x: np.std(x, ddof=0)\n",
    "se_proportion = lambda x: stats.sem(x, ddof=0)\n",
    "conversion_rates = conversion_rates.agg([np.mean, std_proportion, se_proportion]).rename(columns={'mean':'CR mean', '<lambda_0>':'CR std', '<lambda_1>':'CR se'})\n",
    "conversion_rates"
   ]
  },
  {
   "cell_type": "code",
   "execution_count": 11,
   "metadata": {
    "scrolled": false
   },
   "outputs": [
    {
     "data": {
      "image/png": "[encoded data removed]",
      "text/plain": [
       "<Figure size 1080x720 with 6 Axes>"
      ]
     },
     "metadata": {},
     "output_type": "display_data"
    }
   ],
   "source": [
    "g = sns.FacetGrid(df.sort_values(by='age_group'), col='age_group', col_wrap=3, height=5)\n",
    "g.map(sns.barplot, 'group', 'converted', order=['treatment', 'control'], palette='rocket');"
   ]
  },
  {
   "cell_type": "code",
   "execution_count": 18,
   "metadata": {},
   "outputs": [],
   "source": [
    "age_groups = df.age_group.unique()\n",
    "age_groups.sort()\n",
    "columns=['age_group', \n",
    "         'Z-statistic', \n",
    "         'p-value', \n",
    "         'CI 95% for control group, lower', \n",
    "         'CI 95% for control group, upper',\n",
    "         'CI 95% for treatment group, lower',\n",
    "         'CI 95% for treatment group, upper']"
   ]
  },
  {
   "cell_type": "code",
   "execution_count": 19,
   "metadata": {},
   "outputs": [
    {
     "data": {
      "text/html": [
       "<div>\n",
       "<style scoped>\n",
       "    .dataframe tbody tr th:only-of-type {\n",
       "        vertical-align: middle;\n",
       "    }\n",
       "\n",
       "    .dataframe tbody tr th {\n",
       "        vertical-align: top;\n",
       "    }\n",
       "\n",
       "    .dataframe thead th {\n",
       "        text-align: right;\n",
       "    }\n",
       "</style>\n",
       "<table border=\"1\" class=\"dataframe\">\n",
       "  <thead>\n",
       "    <tr style=\"text-align: right;\">\n",
       "      <th></th>\n",
       "      <th>age_group</th>\n",
       "      <th>Z-statistic</th>\n",
       "      <th>p-value</th>\n",
       "      <th>CI 95% for control group, lower</th>\n",
       "      <th>CI 95% for control group, upper</th>\n",
       "      <th>CI 95% for treatment group, lower</th>\n",
       "      <th>CI 95% for treatment group, upper</th>\n",
       "    </tr>\n",
       "  </thead>\n",
       "  <tbody>\n",
       "    <tr>\n",
       "      <th>0</th>\n",
       "      <td>18-25</td>\n",
       "      <td>-0.172019</td>\n",
       "      <td>0.863422</td>\n",
       "      <td>0.113959</td>\n",
       "      <td>0.122053</td>\n",
       "      <td>0.114450</td>\n",
       "      <td>0.122568</td>\n",
       "    </tr>\n",
       "    <tr>\n",
       "      <th>1</th>\n",
       "      <td>26-33</td>\n",
       "      <td>0.224619</td>\n",
       "      <td>0.822276</td>\n",
       "      <td>0.117222</td>\n",
       "      <td>0.125370</td>\n",
       "      <td>0.116566</td>\n",
       "      <td>0.124706</td>\n",
       "    </tr>\n",
       "    <tr>\n",
       "      <th>2</th>\n",
       "      <td>34-41</td>\n",
       "      <td>1.690952</td>\n",
       "      <td>0.090846</td>\n",
       "      <td>0.115709</td>\n",
       "      <td>0.123870</td>\n",
       "      <td>0.110882</td>\n",
       "      <td>0.118855</td>\n",
       "    </tr>\n",
       "    <tr>\n",
       "      <th>3</th>\n",
       "      <td>42-49</td>\n",
       "      <td>1.182540</td>\n",
       "      <td>0.236991</td>\n",
       "      <td>0.117233</td>\n",
       "      <td>0.125425</td>\n",
       "      <td>0.113845</td>\n",
       "      <td>0.121887</td>\n",
       "    </tr>\n",
       "    <tr>\n",
       "      <th>4</th>\n",
       "      <td>50-57</td>\n",
       "      <td>0.553844</td>\n",
       "      <td>0.579685</td>\n",
       "      <td>0.117488</td>\n",
       "      <td>0.125662</td>\n",
       "      <td>0.115894</td>\n",
       "      <td>0.124002</td>\n",
       "    </tr>\n",
       "    <tr>\n",
       "      <th>5</th>\n",
       "      <td>58+</td>\n",
       "      <td>-0.451782</td>\n",
       "      <td>0.651426</td>\n",
       "      <td>0.116334</td>\n",
       "      <td>0.124430</td>\n",
       "      <td>0.117605</td>\n",
       "      <td>0.125817</td>\n",
       "    </tr>\n",
       "  </tbody>\n",
       "</table>\n",
       "</div>"
      ],
      "text/plain": [
       "  age_group  Z-statistic   p-value  CI 95% for control group, lower  \\\n",
       "0     18-25    -0.172019  0.863422                         0.113959   \n",
       "1     26-33     0.224619  0.822276                         0.117222   \n",
       "2     34-41     1.690952  0.090846                         0.115709   \n",
       "3     42-49     1.182540  0.236991                         0.117233   \n",
       "4     50-57     0.553844  0.579685                         0.117488   \n",
       "5       58+    -0.451782  0.651426                         0.116334   \n",
       "\n",
       "   CI 95% for control group, upper  CI 95% for treatment group, lower  \\\n",
       "0                         0.122053                           0.114450   \n",
       "1                         0.125370                           0.116566   \n",
       "2                         0.123870                           0.110882   \n",
       "3                         0.125425                           0.113845   \n",
       "4                         0.125662                           0.115894   \n",
       "5                         0.124430                           0.117605   \n",
       "\n",
       "   CI 95% for treatment group, upper  \n",
       "0                           0.122568  \n",
       "1                           0.124706  \n",
       "2                           0.118855  \n",
       "3                           0.121887  \n",
       "4                           0.124002  \n",
       "5                           0.125817  "
      ]
     },
     "execution_count": 19,
     "metadata": {},
     "output_type": "execute_result"
    }
   ],
   "source": [
    "result = []\n",
    "for age_group in age_groups:\n",
    "    control_results = df[(df['group'] == 'control')&(df['age_group'] == age_group)]['converted']\n",
    "    treatment_results = df[(df['group'] == 'treatment')&(df['age_group'] == age_group)]['converted']\n",
    "\n",
    "    n_con = control_results.count()\n",
    "    n_treat = treatment_results.count()\n",
    "    successes = [control_results.sum(), treatment_results.sum()]\n",
    "    nobs = [n_con, n_treat]\n",
    "\n",
    "    z_stat, pval = proportions_ztest(successes, nobs=nobs)\n",
    "    (lower_con, lower_treat), (upper_con, upper_treat) = proportion_confint(successes, nobs=nobs, alpha=0.05)\n",
    "    result.append([age_group, z_stat, pval, lower_con, upper_con, lower_treat, upper_treat])\n",
    "\n",
    "result_df = pd.DataFrame(result, columns=columns)\n",
    "result_df"
   ]
  },
  {
   "cell_type": "markdown",
   "metadata": {},
   "source": [
    "Для всех возрастных групп p-значение получилось значительно выше принятой альфы в 0.05, следовательно отклонить нулевую гипотезу мы не можем ни для одной из групп. Но стоит заметить, что для возрастной группы 34-41 p-значение самое наименьшее, возможно на эту группу изменения сайта оказывают наибольшее влияние. Но все равно по итогу эксперимента мы понимаем, что статистически значимых изменений уровня конверсии изменения сайта не принесли ни для одной из групп. \n",
    "\n",
    "Доверительные интервалы для каждой из групп колеблются в пределах 0.114-0.126, что близко к текущему значению и все еще не дотягивает до целевого в 15%. Это означает, что с высокой долей вероятности при смене дизайна сайта доля конверсии существенно не изменится ни в одной возрастной группе."
   ]
  },
  {
   "cell_type": "markdown",
   "metadata": {},
   "source": [
    "Я немного того и посчитала не по тем группам но лишним не будет\n",
    "глянем еще для групп user_type"
   ]
  },
  {
   "cell_type": "code",
   "execution_count": 21,
   "metadata": {},
   "outputs": [
    {
     "data": {
      "text/html": [
       "<div>\n",
       "<style scoped>\n",
       "    .dataframe tbody tr th:only-of-type {\n",
       "        vertical-align: middle;\n",
       "    }\n",
       "\n",
       "    .dataframe tbody tr th {\n",
       "        vertical-align: top;\n",
       "    }\n",
       "\n",
       "    .dataframe thead th {\n",
       "        text-align: right;\n",
       "    }\n",
       "</style>\n",
       "<table border=\"1\" class=\"dataframe\">\n",
       "  <thead>\n",
       "    <tr style=\"text-align: right;\">\n",
       "      <th></th>\n",
       "      <th></th>\n",
       "      <th>CR mean</th>\n",
       "      <th>CR std</th>\n",
       "      <th>CR se</th>\n",
       "    </tr>\n",
       "    <tr>\n",
       "      <th>user_type</th>\n",
       "      <th>group</th>\n",
       "      <th></th>\n",
       "      <th></th>\n",
       "      <th></th>\n",
       "    </tr>\n",
       "  </thead>\n",
       "  <tbody>\n",
       "    <tr>\n",
       "      <th rowspan=\"2\" valign=\"top\">new_user</th>\n",
       "      <th>control</th>\n",
       "      <td>0.120746</td>\n",
       "      <td>0.325832</td>\n",
       "      <td>0.001200</td>\n",
       "    </tr>\n",
       "    <tr>\n",
       "      <th>treatment</th>\n",
       "      <td>0.117557</td>\n",
       "      <td>0.322082</td>\n",
       "      <td>0.001188</td>\n",
       "    </tr>\n",
       "    <tr>\n",
       "      <th rowspan=\"2\" valign=\"top\">registered_user</th>\n",
       "      <th>control</th>\n",
       "      <td>0.120051</td>\n",
       "      <td>0.325021</td>\n",
       "      <td>0.001199</td>\n",
       "    </tr>\n",
       "    <tr>\n",
       "      <th>treatment</th>\n",
       "      <td>0.120277</td>\n",
       "      <td>0.325285</td>\n",
       "      <td>0.001197</td>\n",
       "    </tr>\n",
       "  </tbody>\n",
       "</table>\n",
       "</div>"
      ],
      "text/plain": [
       "                            CR mean    CR std     CR se\n",
       "user_type       group                                  \n",
       "new_user        control    0.120746  0.325832  0.001200\n",
       "                treatment  0.117557  0.322082  0.001188\n",
       "registered_user control    0.120051  0.325021  0.001199\n",
       "                treatment  0.120277  0.325285  0.001197"
      ]
     },
     "execution_count": 21,
     "metadata": {},
     "output_type": "execute_result"
    }
   ],
   "source": [
    "conversion_rates = df.groupby(['user_type', 'group'])['converted']\n",
    "std_proportion = lambda x: np.std(x, ddof=0)\n",
    "se_proportion = lambda x: stats.sem(x, ddof=0)\n",
    "conversion_rates = conversion_rates.agg([np.mean, std_proportion, se_proportion]).rename(columns={'mean':'CR mean', '<lambda_0>':'CR std', '<lambda_1>':'CR se'})\n",
    "conversion_rates"
   ]
  },
  {
   "cell_type": "code",
   "execution_count": 25,
   "metadata": {},
   "outputs": [
    {
     "data": {
      "image/png": "[encoded data removed]",
      "text/plain": [
       "<Figure size 720x360 with 2 Axes>"
      ]
     },
     "metadata": {},
     "output_type": "display_data"
    }
   ],
   "source": [
    "g = sns.FacetGrid(df.sort_values(by='user_type'), col='user_type', col_wrap=2, height=5)\n",
    "g.map(sns.barplot, 'group', 'converted', order=['treatment', 'control'], palette='rocket');"
   ]
  },
  {
   "cell_type": "code",
   "execution_count": 27,
   "metadata": {},
   "outputs": [],
   "source": [
    "user_types = df.user_type.unique()\n",
    "user_types.sort()\n",
    "columns=['user_type', \n",
    "         'Z-statistic', \n",
    "         'p-value', \n",
    "         'CI 95% for control group, lower', \n",
    "         'CI 95% for control group, upper',\n",
    "         'CI 95% for treatment group, lower',\n",
    "         'CI 95% for treatment group, upper']"
   ]
  },
  {
   "cell_type": "code",
   "execution_count": 30,
   "metadata": {},
   "outputs": [
    {
     "data": {
      "text/html": [
       "<div>\n",
       "<style scoped>\n",
       "    .dataframe tbody tr th:only-of-type {\n",
       "        vertical-align: middle;\n",
       "    }\n",
       "\n",
       "    .dataframe tbody tr th {\n",
       "        vertical-align: top;\n",
       "    }\n",
       "\n",
       "    .dataframe thead th {\n",
       "        text-align: right;\n",
       "    }\n",
       "</style>\n",
       "<table border=\"1\" class=\"dataframe\">\n",
       "  <thead>\n",
       "    <tr style=\"text-align: right;\">\n",
       "      <th></th>\n",
       "      <th>user_type</th>\n",
       "      <th>Z-statistic</th>\n",
       "      <th>p-value</th>\n",
       "      <th>CI 95% for control group, lower</th>\n",
       "      <th>CI 95% for control group, upper</th>\n",
       "      <th>CI 95% for treatment group, lower</th>\n",
       "      <th>CI 95% for treatment group, upper</th>\n",
       "    </tr>\n",
       "  </thead>\n",
       "  <tbody>\n",
       "    <tr>\n",
       "      <th>0</th>\n",
       "      <td>new_user</td>\n",
       "      <td>1.888646</td>\n",
       "      <td>0.058939</td>\n",
       "      <td>0.118394</td>\n",
       "      <td>0.123097</td>\n",
       "      <td>0.115228</td>\n",
       "      <td>0.119885</td>\n",
       "    </tr>\n",
       "    <tr>\n",
       "      <th>1</th>\n",
       "      <td>registered_user</td>\n",
       "      <td>-0.133246</td>\n",
       "      <td>0.893999</td>\n",
       "      <td>0.117701</td>\n",
       "      <td>0.122402</td>\n",
       "      <td>0.117930</td>\n",
       "      <td>0.122624</td>\n",
       "    </tr>\n",
       "  </tbody>\n",
       "</table>\n",
       "</div>"
      ],
      "text/plain": [
       "         user_type  Z-statistic   p-value  CI 95% for control group, lower  \\\n",
       "0         new_user     1.888646  0.058939                         0.118394   \n",
       "1  registered_user    -0.133246  0.893999                         0.117701   \n",
       "\n",
       "   CI 95% for control group, upper  CI 95% for treatment group, lower  \\\n",
       "0                         0.123097                           0.115228   \n",
       "1                         0.122402                           0.117930   \n",
       "\n",
       "   CI 95% for treatment group, upper  \n",
       "0                           0.119885  \n",
       "1                           0.122624  "
      ]
     },
     "execution_count": 30,
     "metadata": {},
     "output_type": "execute_result"
    }
   ],
   "source": [
    "result = []\n",
    "for user_type in user_types:\n",
    "    control_results = df[(df['group'] == 'control')&(df['user_type'] == user_type)]['converted']\n",
    "    treatment_results = df[(df['group'] == 'treatment')&(df['user_type'] == user_type)]['converted']\n",
    "\n",
    "    n_con = control_results.count()\n",
    "    n_treat = treatment_results.count()\n",
    "    successes = [control_results.sum(), treatment_results.sum()]\n",
    "    nobs = [n_con, n_treat]\n",
    "\n",
    "    z_stat, pval = proportions_ztest(successes, nobs=nobs)\n",
    "    (lower_con, lower_treat), (upper_con, upper_treat) = proportion_confint(successes, nobs=nobs, alpha=0.05)\n",
    "    result.append([user_type, z_stat, pval, lower_con, upper_con, lower_treat, upper_treat])\n",
    "\n",
    "result_df = pd.DataFrame(result, columns=columns)\n",
    "result_df"
   ]
  },
  {
   "cell_type": "markdown",
   "metadata": {},
   "source": [
    "Р-значение для группы пользователей new_user близко к принятой альфе 0.05, но все же ее превышает. Таким образом даже для категории новых пользователей отклонить нулевую гипотезу о том, что значимого изменения конверсии нет, мы не можем. \n",
    "Доверительный интервал для новых пользователей в испытуемой группе 0.115-0.12, что также близко к baseline значению и не достает до целевых 15%."
   ]
  }
 ],
 "metadata": {
  "kernelspec": {
   "display_name": "Python 3 (ipykernel)",
   "language": "python",
   "name": "python3"
  },
  "language_info": {
   "codemirror_mode": {
    "name": "ipython",
    "version": 3
   },
   "file_extension": ".py",
   "mimetype": "text/x-python",
   "name": "python",
   "nbconvert_exporter": "python",
   "pygments_lexer": "ipython3",
   "version": "3.8.13"
  }
 },
 "nbformat": 4,
 "nbformat_minor": 1
}
